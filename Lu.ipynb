{
 "cells": [
  {
   "cell_type": "code",
   "execution_count": 51,
   "id": "a332a2c7",
   "metadata": {},
   "outputs": [],
   "source": [
    "import cv2\n",
    "import numpy as np"
   ]
  },
  {
   "cell_type": "code",
   "execution_count": 116,
   "id": "59d08cbf",
   "metadata": {},
   "outputs": [],
   "source": [
    "m=3\n",
    "A=np.random.randn(m,m)*7\n",
    "A[2,:]=A[0,:]+A[1,:]\n"
   ]
  },
  {
   "cell_type": "code",
   "execution_count": 128,
   "id": "ccb1f772",
   "metadata": {},
   "outputs": [],
   "source": [
    "def factor(M):\n",
    "    col=M[:,0]\n",
    "    \n",
    "    r=1\n",
    "    if col[0]!=0:\n",
    "        r=col[0] \n",
    "    row=M[0,:]/r\n",
    "    return col,row, col[0]==0\n",
    "def LU(M):\n",
    "    m,n=M.shape\n",
    "    \n",
    "    L,U=np.zeros((m,m)),np.zeros((n,n))\n",
    "    \n",
    "    F=M.copy()\n",
    "    rank=0\n",
    "    for i in range(m):\n",
    "        c,r,sigular=factor(F)\n",
    "        L[i:,i]=c    #column i\n",
    "        U[i,i:]=r    #row i\n",
    "        \n",
    "        if not sigular:\n",
    "            rank+=1\n",
    "        F=F-np.outer(c,r)\n",
    "        F=F[1:,1:]\n",
    "    return L,U,rank"
   ]
  },
  {
   "cell_type": "code",
   "execution_count": 129,
   "id": "8456a33b",
   "metadata": {},
   "outputs": [],
   "source": [
    "L,U,rank=LU(A)"
   ]
  },
  {
   "cell_type": "code",
   "execution_count": 130,
   "id": "df03df8f",
   "metadata": {},
   "outputs": [
    {
     "data": {
      "text/plain": [
       "(4.440892098500626e-16, 2)"
      ]
     },
     "execution_count": 130,
     "metadata": {},
     "output_type": "execute_result"
    }
   ],
   "source": [
    "np.abs(A-L.dot(U)).max(),rank"
   ]
  },
  {
   "cell_type": "code",
   "execution_count": 127,
   "id": "b0b70473",
   "metadata": {},
   "outputs": [
    {
     "data": {
      "text/plain": [
       "array([[ 1.        ,  0.06395506, -0.8679076 ],\n",
       "       [ 0.        ,  1.        ,  1.0295758 ],\n",
       "       [ 0.        ,  0.        ,  0.        ]])"
      ]
     },
     "execution_count": 127,
     "metadata": {},
     "output_type": "execute_result"
    }
   ],
   "source": [
    "U"
   ]
  },
  {
   "cell_type": "code",
   "execution_count": 121,
   "id": "8fdff7e8",
   "metadata": {},
   "outputs": [
    {
     "data": {
      "text/plain": [
       "array([[11.73538816,  0.        ,  0.        ],\n",
       "       [ 0.45830311,  7.11692733,  0.        ],\n",
       "       [12.19369126,  7.11692733,  0.        ]])"
      ]
     },
     "execution_count": 121,
     "metadata": {},
     "output_type": "execute_result"
    }
   ],
   "source": [
    "L"
   ]
  }
 ],
 "metadata": {
  "kernelspec": {
   "display_name": "Python 3 (ipykernel)",
   "language": "python",
   "name": "python3"
  },
  "language_info": {
   "codemirror_mode": {
    "name": "ipython",
    "version": 3
   },
   "file_extension": ".py",
   "mimetype": "text/x-python",
   "name": "python",
   "nbconvert_exporter": "python",
   "pygments_lexer": "ipython3",
   "version": "3.9.6"
  }
 },
 "nbformat": 4,
 "nbformat_minor": 5
}
