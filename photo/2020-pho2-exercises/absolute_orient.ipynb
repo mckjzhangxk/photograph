{
 "cells": [
  {
   "cell_type": "code",
   "execution_count": 2,
   "id": "c4420a05-8e68-4edf-901f-f14a11af50b1",
   "metadata": {
    "tags": []
   },
   "outputs": [],
   "source": [
    "import numpy as np\n",
    "import matplotlib as mlt\n",
    "%matplotlib inline"
   ]
  },
  {
   "cell_type": "code",
   "execution_count": 3,
   "id": "a5f1427e-dd64-49c4-8e61-e53025bc364d",
   "metadata": {
    "jupyter": {
     "source_hidden": true
    },
    "tags": []
   },
   "outputs": [],
   "source": [
    "def Rx(d):\n",
    "    c,s=np.cos(d/180*np.pi),np.sin(d/180*np.pi)\n",
    "    M=[\n",
    "            [1,0, 0],\n",
    "            [0,c,-s],\n",
    "            [0,s, c],\n",
    "        ]\n",
    "    return np.array(M)\n",
    "def Ry(d):\n",
    "    c,s=np.cos(d/180*np.pi),np.sin(d/180*np.pi)\n",
    "    M=[\n",
    "           [ c,0,s],\n",
    "           [ 0,1,0],\n",
    "           [-s,0,c],\n",
    "        ]\n",
    "    return np.array(M)\n",
    "def Rz(d):\n",
    "    c,s=np.cos(d/180*np.pi),np.sin(d/180*np.pi)\n",
    "    M=[\n",
    "            [c,-s,0],\n",
    "            [s, c,0],\n",
    "            [0, 0,1],\n",
    "        ]\n",
    "    return np.array(M)"
   ]
  },
  {
   "cell_type": "code",
   "execution_count": 4,
   "id": "88e578ee-4d5b-42f8-9640-51b51b53053c",
   "metadata": {
    "tags": []
   },
   "outputs": [],
   "source": [
    "#unknown parameter\n",
    "lbd=1\n",
    "RR=Rx(-30)@Rx(77)@Rx(130)\n",
    "t=np.array([-90,30,44])"
   ]
  },
  {
   "cell_type": "code",
   "execution_count": 10,
   "id": "8312f1e2-ca86-4fcc-836a-59b0ebb886d1",
   "metadata": {
    "tags": []
   },
   "outputs": [],
   "source": [
    "#sample data\n",
    "N=30\n",
    "X=np.random.randn(30,3)\n",
    "Y=lbd*X@RR+t+np.random.randn(30,3)*0.1"
   ]
  },
  {
   "cell_type": "code",
   "execution_count": 14,
   "id": "1d8d6ab1-1b62-4cf0-878b-a003d9945a4d",
   "metadata": {
    "tags": []
   },
   "outputs": [],
   "source": [
    "### estimate RR,t,lbd"
   ]
  },
  {
   "cell_type": "code",
   "execution_count": 11,
   "id": "d8e09d01-9fbf-4866-b39d-53605afb7d1f",
   "metadata": {
    "tags": []
   },
   "outputs": [
    {
     "ename": "AssertionError",
     "evalue": "\nArrays are not almost equal to 7 decimals\n ACTUAL: 0.9997655443636995\n DESIRED: 1",
     "output_type": "error",
     "traceback": [
      "\u001b[0;31m---------------------------------------------------------------------------\u001b[0m",
      "\u001b[0;31mAssertionError\u001b[0m                            Traceback (most recent call last)",
      "Cell \u001b[0;32mIn [11], line 10\u001b[0m\n\u001b[1;32m      7\u001b[0m lbd_es\u001b[38;5;241m=\u001b[39mnp\u001b[38;5;241m.\u001b[39msqrt(np\u001b[38;5;241m.\u001b[39msum(Ybar\u001b[38;5;241m*\u001b[39mYbar)\u001b[38;5;241m/\u001b[39mnp\u001b[38;5;241m.\u001b[39msum(Xbar\u001b[38;5;241m*\u001b[39mXbar))\n\u001b[1;32m      9\u001b[0m \u001b[38;5;66;03m##验证\u001b[39;00m\n\u001b[0;32m---> 10\u001b[0m \u001b[43mnp\u001b[49m\u001b[38;5;241;43m.\u001b[39;49m\u001b[43mtesting\u001b[49m\u001b[38;5;241;43m.\u001b[39;49m\u001b[43massert_almost_equal\u001b[49m\u001b[43m(\u001b[49m\u001b[43mlbd_es\u001b[49m\u001b[43m,\u001b[49m\u001b[43mlbd\u001b[49m\u001b[43m)\u001b[49m\n",
      "File \u001b[0;32m/opt/homebrew/lib/python3.9/site-packages/numpy/testing/_private/utils.py:599\u001b[0m, in \u001b[0;36massert_almost_equal\u001b[0;34m(actual, desired, decimal, err_msg, verbose)\u001b[0m\n\u001b[1;32m    597\u001b[0m     \u001b[38;5;28;01mpass\u001b[39;00m\n\u001b[1;32m    598\u001b[0m \u001b[38;5;28;01mif\u001b[39;00m \u001b[38;5;28mabs\u001b[39m(desired \u001b[38;5;241m-\u001b[39m actual) \u001b[38;5;241m>\u001b[39m\u001b[38;5;241m=\u001b[39m \u001b[38;5;241m1.5\u001b[39m \u001b[38;5;241m*\u001b[39m \u001b[38;5;241m10.0\u001b[39m\u001b[38;5;241m*\u001b[39m\u001b[38;5;241m*\u001b[39m(\u001b[38;5;241m-\u001b[39mdecimal):\n\u001b[0;32m--> 599\u001b[0m     \u001b[38;5;28;01mraise\u001b[39;00m \u001b[38;5;167;01mAssertionError\u001b[39;00m(_build_err_msg())\n",
      "\u001b[0;31mAssertionError\u001b[0m: \nArrays are not almost equal to 7 decimals\n ACTUAL: 0.9997655443636995\n DESIRED: 1"
     ]
    }
   ],
   "source": [
    "### lbd\n",
    "YMean=np.mean(Y,axis=0)\n",
    "XMean=np.mean(X,axis=0)\n",
    "\n",
    "Ybar=Y-YMean\n",
    "Xbar=X-XMean\n",
    "lbd_es=np.sqrt(np.sum(Ybar*Ybar)/np.sum(Xbar*Xbar))\n",
    "\n",
    "##验证\n",
    "np.testing.assert_almost_equal(lbd_es,lbd)"
   ]
  },
  {
   "cell_type": "code",
   "execution_count": 17,
   "id": "96437aed-781e-473c-b022-73855d797da8",
   "metadata": {
    "tags": []
   },
   "outputs": [
    {
     "ename": "AssertionError",
     "evalue": "\nArrays are not almost equal to 7 decimals\n\nMismatched elements: 9 / 9 (100%)\nMax absolute difference: 0.00713955\nMax relative difference: 0.13199671\n x: array([[ 0.9999738,  0.0071396, -0.0012104],\n       [ 0.0070553, -0.9982186, -0.0592441],\n       [-0.0016313,  0.059234 , -0.9982428]])\n y: array([[ 1.       ,  0.       ,  0.       ],\n       [ 0.       , -0.9986295, -0.052336 ],\n       [ 0.       ,  0.052336 , -0.9986295]])",
     "output_type": "error",
     "traceback": [
      "\u001b[0;31m---------------------------------------------------------------------------\u001b[0m",
      "\u001b[0;31mAssertionError\u001b[0m                            Traceback (most recent call last)",
      "Cell \u001b[0;32mIn [17], line 10\u001b[0m\n\u001b[1;32m      8\u001b[0m \u001b[38;5;66;03m##验证\u001b[39;00m\n\u001b[1;32m      9\u001b[0m np\u001b[38;5;241m.\u001b[39mtesting\u001b[38;5;241m.\u001b[39massert_almost_equal(RR_es\u001b[38;5;129m@RR_es\u001b[39m\u001b[38;5;241m.\u001b[39mT,np\u001b[38;5;241m.\u001b[39meye(\u001b[38;5;241m3\u001b[39m,\u001b[38;5;241m3\u001b[39m))\n\u001b[0;32m---> 10\u001b[0m \u001b[43mnp\u001b[49m\u001b[38;5;241;43m.\u001b[39;49m\u001b[43mtesting\u001b[49m\u001b[38;5;241;43m.\u001b[39;49m\u001b[43massert_almost_equal\u001b[49m\u001b[43m(\u001b[49m\u001b[43mRR_es\u001b[49m\u001b[38;5;241;43m.\u001b[39;49m\u001b[43mT\u001b[49m\u001b[43m,\u001b[49m\u001b[43mRR\u001b[49m\u001b[43m)\u001b[49m\n",
      "    \u001b[0;31m[... skipping hidden 2 frame]\u001b[0m\n",
      "File \u001b[0;32m/opt/homebrew/lib/python3.9/site-packages/numpy/testing/_private/utils.py:844\u001b[0m, in \u001b[0;36massert_array_compare\u001b[0;34m(comparison, x, y, err_msg, verbose, header, precision, equal_nan, equal_inf)\u001b[0m\n\u001b[1;32m    840\u001b[0m         err_msg \u001b[38;5;241m+\u001b[39m\u001b[38;5;241m=\u001b[39m \u001b[38;5;124m'\u001b[39m\u001b[38;5;130;01m\\n\u001b[39;00m\u001b[38;5;124m'\u001b[39m \u001b[38;5;241m+\u001b[39m \u001b[38;5;124m'\u001b[39m\u001b[38;5;130;01m\\n\u001b[39;00m\u001b[38;5;124m'\u001b[39m\u001b[38;5;241m.\u001b[39mjoin(remarks)\n\u001b[1;32m    841\u001b[0m         msg \u001b[38;5;241m=\u001b[39m build_err_msg([ox, oy], err_msg,\n\u001b[1;32m    842\u001b[0m                             verbose\u001b[38;5;241m=\u001b[39mverbose, header\u001b[38;5;241m=\u001b[39mheader,\n\u001b[1;32m    843\u001b[0m                             names\u001b[38;5;241m=\u001b[39m(\u001b[38;5;124m'\u001b[39m\u001b[38;5;124mx\u001b[39m\u001b[38;5;124m'\u001b[39m, \u001b[38;5;124m'\u001b[39m\u001b[38;5;124my\u001b[39m\u001b[38;5;124m'\u001b[39m), precision\u001b[38;5;241m=\u001b[39mprecision)\n\u001b[0;32m--> 844\u001b[0m         \u001b[38;5;28;01mraise\u001b[39;00m \u001b[38;5;167;01mAssertionError\u001b[39;00m(msg)\n\u001b[1;32m    845\u001b[0m \u001b[38;5;28;01mexcept\u001b[39;00m \u001b[38;5;167;01mValueError\u001b[39;00m:\n\u001b[1;32m    846\u001b[0m     \u001b[38;5;28;01mimport\u001b[39;00m \u001b[38;5;21;01mtraceback\u001b[39;00m\n",
      "\u001b[0;31mAssertionError\u001b[0m: \nArrays are not almost equal to 7 decimals\n\nMismatched elements: 9 / 9 (100%)\nMax absolute difference: 0.00713955\nMax relative difference: 0.13199671\n x: array([[ 0.9999738,  0.0071396, -0.0012104],\n       [ 0.0070553, -0.9982186, -0.0592441],\n       [-0.0016313,  0.059234 , -0.9982428]])\n y: array([[ 1.       ,  0.       ,  0.       ],\n       [ 0.       , -0.9986295, -0.052336 ],\n       [ 0.       ,  0.052336 , -0.9986295]])"
     ]
    }
   ],
   "source": [
    "### RR\n",
    "H=0\n",
    "for i in range(N):\n",
    "    H+=np.outer(Xbar[i,:],Ybar[i,:])\n",
    "U,D,VT=np.linalg.svd(H)\n",
    "RR_es=VT.T@U.T\n",
    "\n",
    "##验证\n",
    "np.testing.assert_almost_equal(RR_es@RR_es.T,np.eye(3,3))\n",
    "np.testing.assert_almost_equal(RR_es.T,RR)"
   ]
  },
  {
   "cell_type": "code",
   "execution_count": 13,
   "id": "d7f787e3-f44a-4f84-9250-a9acd7ee570e",
   "metadata": {
    "tags": []
   },
   "outputs": [
    {
     "ename": "AssertionError",
     "evalue": "\nArrays are not almost equal to 6 decimals\n\nMismatched elements: 3 / 3 (100%)\nMax absolute difference: 0.06709736\nMax relative difference: 0.00223658\n x: array([-90.027509,  30.067097,  43.98012 ])\n y: array([-90,  30,  44])",
     "output_type": "error",
     "traceback": [
      "\u001b[0;31m---------------------------------------------------------------------------\u001b[0m",
      "\u001b[0;31mAssertionError\u001b[0m                            Traceback (most recent call last)",
      "Cell \u001b[0;32mIn [13], line 3\u001b[0m\n\u001b[1;32m      1\u001b[0m t_es\u001b[38;5;241m=\u001b[39mYMean\u001b[38;5;241m-\u001b[39mlbd_es\u001b[38;5;241m*\u001b[39mRR_es\u001b[38;5;241m.\u001b[39mT\u001b[38;5;129m@XMean\u001b[39m\n\u001b[1;32m      2\u001b[0m \u001b[38;5;66;03m##验证\u001b[39;00m\n\u001b[0;32m----> 3\u001b[0m \u001b[43mnp\u001b[49m\u001b[38;5;241;43m.\u001b[39;49m\u001b[43mtesting\u001b[49m\u001b[38;5;241;43m.\u001b[39;49m\u001b[43massert_array_almost_equal\u001b[49m\u001b[43m(\u001b[49m\u001b[43mt_es\u001b[49m\u001b[43m,\u001b[49m\u001b[43mt\u001b[49m\u001b[43m)\u001b[49m\n",
      "    \u001b[0;31m[... skipping hidden 1 frame]\u001b[0m\n",
      "File \u001b[0;32m/opt/homebrew/lib/python3.9/site-packages/numpy/testing/_private/utils.py:844\u001b[0m, in \u001b[0;36massert_array_compare\u001b[0;34m(comparison, x, y, err_msg, verbose, header, precision, equal_nan, equal_inf)\u001b[0m\n\u001b[1;32m    840\u001b[0m         err_msg \u001b[38;5;241m+\u001b[39m\u001b[38;5;241m=\u001b[39m \u001b[38;5;124m'\u001b[39m\u001b[38;5;130;01m\\n\u001b[39;00m\u001b[38;5;124m'\u001b[39m \u001b[38;5;241m+\u001b[39m \u001b[38;5;124m'\u001b[39m\u001b[38;5;130;01m\\n\u001b[39;00m\u001b[38;5;124m'\u001b[39m\u001b[38;5;241m.\u001b[39mjoin(remarks)\n\u001b[1;32m    841\u001b[0m         msg \u001b[38;5;241m=\u001b[39m build_err_msg([ox, oy], err_msg,\n\u001b[1;32m    842\u001b[0m                             verbose\u001b[38;5;241m=\u001b[39mverbose, header\u001b[38;5;241m=\u001b[39mheader,\n\u001b[1;32m    843\u001b[0m                             names\u001b[38;5;241m=\u001b[39m(\u001b[38;5;124m'\u001b[39m\u001b[38;5;124mx\u001b[39m\u001b[38;5;124m'\u001b[39m, \u001b[38;5;124m'\u001b[39m\u001b[38;5;124my\u001b[39m\u001b[38;5;124m'\u001b[39m), precision\u001b[38;5;241m=\u001b[39mprecision)\n\u001b[0;32m--> 844\u001b[0m         \u001b[38;5;28;01mraise\u001b[39;00m \u001b[38;5;167;01mAssertionError\u001b[39;00m(msg)\n\u001b[1;32m    845\u001b[0m \u001b[38;5;28;01mexcept\u001b[39;00m \u001b[38;5;167;01mValueError\u001b[39;00m:\n\u001b[1;32m    846\u001b[0m     \u001b[38;5;28;01mimport\u001b[39;00m \u001b[38;5;21;01mtraceback\u001b[39;00m\n",
      "\u001b[0;31mAssertionError\u001b[0m: \nArrays are not almost equal to 6 decimals\n\nMismatched elements: 3 / 3 (100%)\nMax absolute difference: 0.06709736\nMax relative difference: 0.00223658\n x: array([-90.027509,  30.067097,  43.98012 ])\n y: array([-90,  30,  44])"
     ]
    }
   ],
   "source": [
    "t_es=YMean-lbd_es*RR_es.T@XMean\n",
    "##验证\n",
    "np.testing.assert_array_almost_equal(t_es,t)"
   ]
  },
  {
   "cell_type": "code",
   "execution_count": null,
   "id": "bd010b30-bfdd-45ec-9dd8-02c9aa2b07b2",
   "metadata": {},
   "outputs": [],
   "source": []
  }
 ],
 "metadata": {
  "kernelspec": {
   "display_name": "Python 3 (ipykernel)",
   "language": "python",
   "name": "python3"
  },
  "language_info": {
   "codemirror_mode": {
    "name": "ipython",
    "version": 3
   },
   "file_extension": ".py",
   "mimetype": "text/x-python",
   "name": "python",
   "nbconvert_exporter": "python",
   "pygments_lexer": "ipython3",
   "version": "3.9.6"
  }
 },
 "nbformat": 4,
 "nbformat_minor": 5
}
