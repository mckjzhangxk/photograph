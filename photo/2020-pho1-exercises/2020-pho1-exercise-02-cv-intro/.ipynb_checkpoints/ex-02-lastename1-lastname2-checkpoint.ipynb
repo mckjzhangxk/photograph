{
 "cells": [
  {
   "cell_type": "markdown",
   "metadata": {},
   "source": [
    "## Exercise in Photogrammetry I\n",
    "## **Ex.2 : Computer Vision**\n",
    "### Hand out: xx.xx.xxxx\n",
    "### Submission: xx.xx.xxxx\n",
    "### Points: 22"
   ]
  },
  {
   "cell_type": "markdown",
   "metadata": {},
   "source": [
    "## A Numpy\n",
    "### A1 Initialization\n",
    "Numpy is the most used module for numerical applications in python.\n",
    "**Tasks:**\n",
    "1. import numpy (0.5 Points)\n",
    "2. create and print a ... (2.5 Points)\n",
    "   - ... 3x4 matrix with zeros\n",
    "   - ... 4x3x3 matrix with ones\n",
    "   - ... 3x3 identity matrix\n",
    "   - ... 4x6 matrix with uniformly distributed values in the range of [0,1]. **Hint:** For reproducable results we can set a seed value by the function *np.random.seed(value)*\n",
    "   - ... array with the values from 0 to 4 (integer)"
   ]
  },
  {
   "cell_type": "code",
   "execution_count": null,
   "metadata": {},
   "outputs": [],
   "source": [
    "# Import numpy here as np\n"
   ]
  },
  {
   "cell_type": "code",
   "execution_count": null,
   "metadata": {},
   "outputs": [],
   "source": [
    "# Zero matrix\n"
   ]
  },
  {
   "cell_type": "code",
   "execution_count": null,
   "metadata": {},
   "outputs": [],
   "source": [
    "# Ones: 3 dimensional matrix\n"
   ]
  },
  {
   "cell_type": "code",
   "execution_count": null,
   "metadata": {},
   "outputs": [],
   "source": [
    "# Identity Matrix\n"
   ]
  },
  {
   "cell_type": "code",
   "execution_count": null,
   "metadata": {},
   "outputs": [],
   "source": [
    "# uniformly distributed matrix\n"
   ]
  },
  {
   "cell_type": "code",
   "execution_count": null,
   "metadata": {},
   "outputs": [],
   "source": [
    "# arange\n"
   ]
  },
  {
   "cell_type": "markdown",
   "metadata": {},
   "source": [
    "## Images: Cube Slicing\n",
    "In this course we will deal a lot with images, so that the handling of these should feel quite familiar to you.\n",
    "An image in python is typically represented as a 3 dimensional numpy array *(rows, cols, channel)*. We will use matplotlib for the visualization and skimage for reading and writing to disk. \n",
    "\n",
    "**Task:** Import *pyplot* from *matplotlib* as well as *skimage.io*. (1 Point)"
   ]
  },
  {
   "cell_type": "code",
   "execution_count": null,
   "metadata": {},
   "outputs": [],
   "source": [
    "# Import pyplot and skimage.io, enable inline matplotlib\n"
   ]
  },
  {
   "cell_type": "markdown",
   "metadata": {},
   "source": [
    "**Tasks:**\n",
    "1. Load and visualize the image: *images/cube.jpg* (1 Point)\n",
    "2. print the shape of the image as well as the underlying data type. (1 Point)\n",
    "3. create two variables which hold the left and the right half of the image, respectively. Make sure that both parts have the same size and plot both images. **Hint:** use subplots (see example below) (3 Points)\n",
    "4. flip the right image vertically. (1 Point)\n",
    "5. Convert the left and the right flipped image to uint8 for later computations.  (1 Points)\n",
    "6. Compute the absolute difference between the left and the right flipped image. (1 Point)\n",
    "7. Convert the difference image back to uint8 and visualize it. (1 Point)"
   ]
  },
  {
   "cell_type": "code",
   "execution_count": null,
   "metadata": {
    "scrolled": false
   },
   "outputs": [],
   "source": [
    "# Load and visualize image\n"
   ]
  },
  {
   "cell_type": "code",
   "execution_count": null,
   "metadata": {},
   "outputs": [],
   "source": [
    "# print the shape and underlying data type\n"
   ]
  },
  {
   "cell_type": "code",
   "execution_count": null,
   "metadata": {},
   "outputs": [],
   "source": [
    "# Split image in left and right half:\n",
    "\n",
    "\n",
    "# print shapes:\n"
   ]
  },
  {
   "cell_type": "code",
   "execution_count": null,
   "metadata": {},
   "outputs": [],
   "source": [
    "# Visualize left and right part\n"
   ]
  },
  {
   "cell_type": "code",
   "execution_count": null,
   "metadata": {},
   "outputs": [],
   "source": [
    "# flip right image and plot the result:\n"
   ]
  },
  {
   "cell_type": "code",
   "execution_count": null,
   "metadata": {},
   "outputs": [],
   "source": [
    "# Convert to float \n"
   ]
  },
  {
   "cell_type": "code",
   "execution_count": null,
   "metadata": {},
   "outputs": [],
   "source": [
    "# compute difference here:\n"
   ]
  },
  {
   "cell_type": "code",
   "execution_count": null,
   "metadata": {},
   "outputs": [],
   "source": [
    "# Convert to uint8:\n",
    "\n",
    "# Plot differences:\n"
   ]
  },
  {
   "cell_type": "markdown",
   "metadata": {},
   "source": [
    "**Task:** What is the meaning of the **colored** areas in the difference image? Why are some parts of the image black?\n",
    "\n",
    "Write your answer here:\n"
   ]
  },
  {
   "cell_type": "markdown",
   "metadata": {},
   "source": [
    "# Point Transformation \n",
    "Points will be the second most important data type after images in this course. \n",
    "In the following we have given an L-shaped point cloud [2xn] (*n=200*), on which we want to apply some transformations. Visualizing points can be done in a very similar way as in matlab (with the function *plt.plot(x,y,...)* )\n",
    "\n",
    "**Tasks:**\n",
    "1. Visualize the point cloud. (1 Point)\n",
    "1. Write a function angle2rotMat(...) that returns the rotation matrix [2x2] for a given rotation angle (in degree). (1 Point)\n",
    "2. Write for the function a Header which describes what the function is doing, as well as the input and output parameter. **Hint** An example of this can be seen in the first tutorial. (1 Point)\n",
    "3. Create the 2 rotation matrices *R1* and *R2*: the first with an angle of 30[degree] and the second with an angle of 60[degree]. Print both matrices. (1 Point)\n",
    "4. Rotate the given point cloud by *R1* and save the result in *points_r1*. Be aware of the difference between a matrix multiplication and an elementwise multiplication. (0.5 Points)\n",
    "5. Rotate *points_r1* by *R2* and save the result in *points_r2*. (0.5 Points)\n",
    "6. Shift points_r2 by the *translation=(3,4)^T* and save the result in *points_t*. (1 Points)\n",
    "7. Create a figure with 4 subplots. Plot *points*, *points_r1*, *points_r2* and *points_t* in the created subplots, respectively. (3 Points)"
   ]
  },
  {
   "cell_type": "code",
   "execution_count": null,
   "metadata": {},
   "outputs": [],
   "source": [
    "# generating an L-shaped point cloud.\n",
    "np.random.seed(0)\n",
    "points = np.hstack([np.array([[5,0.5]]).T* np.random.rand(2,100),np.array([[0.5,5]]).T*np.random.rand(2,100)])\n",
    "print('Point cloud dimension:',points.shape)"
   ]
  },
  {
   "cell_type": "code",
   "execution_count": null,
   "metadata": {},
   "outputs": [],
   "source": [
    "# Plot points here\n"
   ]
  },
  {
   "cell_type": "code",
   "execution_count": null,
   "metadata": {},
   "outputs": [],
   "source": [
    "# write angle2rotMat(...):\n"
   ]
  },
  {
   "cell_type": "code",
   "execution_count": null,
   "metadata": {},
   "outputs": [],
   "source": [
    "# create rotation matrices\n"
   ]
  },
  {
   "cell_type": "code",
   "execution_count": null,
   "metadata": {},
   "outputs": [],
   "source": [
    "# create translation vector\n",
    "\n",
    "# apply Transformations \n"
   ]
  },
  {
   "cell_type": "code",
   "execution_count": null,
   "metadata": {},
   "outputs": [],
   "source": [
    "# create subplots and plot the results\n"
   ]
  },
  {
   "cell_type": "code",
   "execution_count": null,
   "metadata": {},
   "outputs": [],
   "source": [
    "# Matplotlib example: Subplots\n",
    "\n",
    "# create Some data\n",
    "np.random.seed(1)\n",
    "some_data = np.random.randn(2,10)\n",
    "\n",
    "# Define Subplots\n",
    "fig_ex1, axes_ex1 = plt.subplots(nrows=2,ncols=2)\n",
    "\n",
    "# Assign \n",
    "# Draw points\n",
    "axes_ex1[0,0].plot(some_data[0], some_data[1],marker='.',linestyle='')\n",
    "axes_ex1[0,0].set_title('Usefull Title')\n",
    "axes_ex1[0,0].axis('equal')\n",
    "\n",
    "# Plot Bars\n",
    "axes_ex1[0,1].bar(np.arange(10), some_data[0])\n",
    "\n",
    "# Connect points by lines\n",
    "axes_ex1[1,0].plot(some_data[0], some_data[1],linestyle='-',color='r')\n",
    "axes_ex1[1,0].axis('equal')\n",
    "\n",
    "# Draw points (optional: different, )\n",
    "axes_ex1[1,1].scatter(some_data[0], some_data[1], s=10, c=np.arange(10), cmap='viridis')\n",
    "axes_ex1[1,1].axis('equal')\n",
    "plt.show()"
   ]
  }
 ],
 "metadata": {
  "kernelspec": {
   "display_name": "Python 3",
   "language": "python",
   "name": "python3"
  },
  "language_info": {
   "codemirror_mode": {
    "name": "ipython",
    "version": 3
   },
   "file_extension": ".py",
   "mimetype": "text/x-python",
   "name": "python",
   "nbconvert_exporter": "python",
   "pygments_lexer": "ipython3",
   "version": "3.8.5"
  }
 },
 "nbformat": 4,
 "nbformat_minor": 4
}
