{
 "cells": [
  {
   "cell_type": "code",
   "execution_count": 2,
   "id": "a36b2754-d437-42b9-8187-6240a57717c1",
   "metadata": {
    "direction": "rtl",
    "tags": []
   },
   "outputs": [],
   "source": [
    "import numpy as np\n",
    "import matplotlib as mlt\n",
    "import matplotlib.pyplot as plt\n",
    "%matplotlib inline"
   ]
  },
  {
   "cell_type": "markdown",
   "id": "dcabfbc5",
   "metadata": {},
   "source": [
    "$K_{3x3}=\\begin{bmatrix}\n",
    "c & cs     & X_h\\\\\n",
    "  & c(1+m) & Y_h\\\\\n",
    "  &        & 1\\\\\n",
    "\\end{bmatrix}=\n",
    "\\begin{bmatrix}\n",
    "1 & s   & X_h \\\\\n",
    "  & 1+m & Y_h \\\\\n",
    "  &      & 1\n",
    "\\end{bmatrix}*\\begin{bmatrix}\n",
    "c &    &  \\\\\n",
    "  & c  &  \\\\\n",
    "  &    & 1\n",
    "\\end{bmatrix}\n",
    "$\n",
    "\n",
    "$R_{3x4}=\n",
    "\\begin{bmatrix}\n",
    "\\overrightarrow{r1} & \\overrightarrow{r2} & \\overrightarrow{r3} & \\overrightarrow{t}\n",
    "\\end{bmatrix}\n",
    "$\n",
    "\n",
    "\n",
    "**Hints**:\n",
    "- $\\overrightarrow{r1} , \\overrightarrow{r2} , \\overrightarrow{r3}$ 分别是x,y,z轴在camera坐标系统中的方向。\n",
    "- $\\overrightarrow{t}是 O 点在camera坐标系统中的位置。$"
   ]
  },
  {
   "cell_type": "code",
   "execution_count": 3,
   "id": "d0639eb3",
   "metadata": {
    "jupyter": {
     "source_hidden": true
    },
    "tags": []
   },
   "outputs": [],
   "source": [
    "def KMatrix(c,m,s,xh,yh):\n",
    "    M=[\n",
    "        [c,c*s,xh],\n",
    "        [0,c*(1+m),yh],\n",
    "        [0,0,1]\n",
    "    ]\n",
    "    return np.array(M)\n",
    "# 返回3x4的矩阵 [R,-RX0]\n",
    "def RMatrix(xdegre,ydegress,zdegress,X0):\n",
    "    def Rx(d):\n",
    "        c,s=np.cos(d/180*np.pi),np.sin(d/180*np.pi)\n",
    "        M=[\n",
    "            [1,0, 0],\n",
    "            [0,c,-s],\n",
    "            [0,s, c],\n",
    "        ]\n",
    "        return np.array(M)\n",
    "    def Ry(d):\n",
    "        c,s=np.cos(d/180*np.pi),np.sin(d/180*np.pi)\n",
    "        M=[\n",
    "           [ c,0,s],\n",
    "           [ 0,1,0],\n",
    "           [-s,0,c],\n",
    "        ]\n",
    "        return np.array(M)\n",
    "    def Rz(d):\n",
    "        c,s=np.cos(d/180*np.pi),np.sin(d/180*np.pi)\n",
    "        M=[\n",
    "            [c,-s,0],\n",
    "            [s, c,0],\n",
    "            [0, 0,1],\n",
    "        ]\n",
    "        return np.array(M)\n",
    "    R=Rx(xdegre)@Ry(ydegress)@Rz(zdegress)\n",
    "    h=-R.T@np.array(X0)\n",
    "    return np.concatenate([R.T,-h[:,np.newaxis]],axis=1)"
   ]
  },
  {
   "cell_type": "code",
   "execution_count": 4,
   "id": "208466f2",
   "metadata": {
    "tags": []
   },
   "outputs": [
    {
     "name": "stdout",
     "output_type": "stream",
     "text": [
      "K= [[-33.   -28.71  33.  ]\n",
      " [  0.   -42.9   22.  ]\n",
      " [  0.     0.     1.  ]]\n",
      "R=\n",
      " [[ 0.53898554  0.61131913  0.57946829  3.41906319]\n",
      " [-0.76975113  0.63681501  0.04415691 -0.99146645]\n",
      " [-0.34202014 -0.46984631  0.81379768 -1.15195537]]\n"
     ]
    }
   ],
   "source": [
    "K=KMatrix(c=-33,m=0.3,s=0.87,xh=33,yh=22)\n",
    "R34=RMatrix(xdegre=30,ydegress=-20,zdegress=55,X0=[3,2,1])\n",
    "\n",
    "np.testing.assert_array_almost_equal(R34[:,0].T@R34[:,1],0)\n",
    "np.testing.assert_array_almost_equal(R34[:,0].T@R34[:,2],0)\n",
    "np.testing.assert_array_almost_equal(R34[:,1].T@R34[:,2],0)\n",
    "np.testing.assert_array_almost_equal(np.linalg.norm(R34[:,0]),1)\n",
    "np.testing.assert_array_almost_equal(np.linalg.norm(R34[:,1]),1)\n",
    "np.testing.assert_array_almost_equal(np.linalg.norm(R34[:,2]),1)\n",
    "\n",
    "print('K=',K)\n",
    "print('R=\\n',R34)"
   ]
  },
  {
   "cell_type": "markdown",
   "id": "9f60af22",
   "metadata": {},
   "source": [
    "### 坐标映射\n",
    "\n",
    "$\\overrightarrow{X_w}=\\begin{bmatrix} x \\\\y \\\\z \\\\1 \\end{bmatrix}$ ,\n",
    "$\\overrightarrow{x_s}=\\begin{bmatrix} x \\\\y  \\\\1 \\end{bmatrix}$,以下公式把2个坐标联系起来:\n",
    "\n",
    "$$\\overrightarrow{x_s}=\\lambda K_{3x3}R_{3x4}\\overrightarrow{X_w}$$\n",
    "\n",
    "**Hints**\n",
    "- $\\overrightarrow{x_s},\\overrightarrow{X_w}都是齐次坐标，最后一个维度都是1$。"
   ]
  },
  {
   "cell_type": "markdown",
   "id": "dc385660",
   "metadata": {},
   "source": [
    "### DLT\n",
    "\n",
    "由坐标映射可知以下关系：\n",
    "\n",
    "$$\\overrightarrow{x^{(i)}_s}= P\\overrightarrow{X^{(i)}_w}$$\n",
    "**Hints**\n",
    "\n",
    "$$\n",
    "M^{(i)}=\n",
    "\\begin{bmatrix}\n",
    "    X^T_w && 0        && -x_sX^T_w \\\\\n",
    "    0     &&  -X^T_w  && -y_sX^T_w \\\\\n",
    "\\end{bmatrix} ^{(i)} \\overrightarrow{P}=0\n",
    "$$\n",
    "- $\\overrightarrow{x^{(i)}_s},\\overrightarrow{X^{(i)}_w}$是已知数据，估算P。\n",
    "- 12(11)个参数，需要6的采样点的对应关系。"
   ]
  },
  {
   "cell_type": "code",
   "execution_count": 5,
   "id": "2df3f696",
   "metadata": {
    "jupyter": {
     "source_hidden": true
    },
    "tags": []
   },
   "outputs": [],
   "source": [
    "# X:(N,4), (x,y,z,1) in world coordinate or (N,3), (x,y,1) in checkboard\n",
    "# x:(N,3), (x,y,1) in sensor coordinate\n",
    "# return: estimate parameter H=KR\n",
    "def DLT(X,x):\n",
    "    np.testing.assert_equal(len(X),len(x))\n",
    "    G=[]\n",
    "    N=len(X)\n",
    "    \n",
    "    for i in range(N):\n",
    "        Xi=X[i]\n",
    "        xi,yi,_=x[i]\n",
    "        ai=np.concatenate([Xi,np.zeros(len(Xi)),-xi*Xi])\n",
    "        bi=np.concatenate([np.zeros(len(Xi)),Xi,-yi*Xi])\n",
    "        G.append(ai)\n",
    "        G.append(bi)\n",
    "    G=np.array(G) \n",
    "    \n",
    "    #G.shape=(2N,9)\n",
    "    U,S,VT=np.linalg.svd(G)\n",
    "    H=VT.T[:,-1]\n",
    "    H.shape=(3,len(Xi))\n",
    "    return H"
   ]
  },
  {
   "cell_type": "code",
   "execution_count": 6,
   "id": "8fc85132-15a3-42ac-87bb-fb7b21afbba2",
   "metadata": {
    "tags": []
   },
   "outputs": [],
   "source": [
    "##生成 3D坐标X 与2D 坐标x 的对应 关系\n",
    "# X：（N,4）,齐次坐标系\n",
    "# x:  (N,3),齐次坐标系\n",
    "\n",
    "P=K@R34\n",
    "\n",
    "n=6\n",
    "X=np.random.rand(n,4)\n",
    "X[:,3]=1  #正则\n",
    "\n",
    "px=X@P.T # 投影\n",
    "x=px/px[:,2:] #正则"
   ]
  },
  {
   "cell_type": "code",
   "execution_count": 7,
   "id": "8686ae09-cc7f-4d7f-999c-441e87b6cff0",
   "metadata": {
    "tags": []
   },
   "outputs": [],
   "source": [
    "##估算参数\n",
    "P_es=DLT(X,x)\n",
    "np.testing.assert_almost_equal(P/P[-1,-1],P_es/P_es[-1,-1])"
   ]
  },
  {
   "cell_type": "markdown",
   "id": "f82c67ec-7017-4c1c-9a80-cf80aef31c0e",
   "metadata": {},
   "source": [
    "### QR 还原K,R\n",
    "\n",
    "$\n",
    " P=\\lambda \\begin{bmatrix}\n",
    " KR_{3x3} & Kt\n",
    " \\end{bmatrix}=\n",
    "  \\begin{bmatrix}\n",
    "  H & h\n",
    " \\end{bmatrix}\n",
    "$\n",
    "\n",
    "$\n",
    " H^{-1}=R^{-1}K^{-1}=qr(H)\n",
    "$\n",
    "\n",
    "结论：$ R=q^T,K=r^{-1},t=(\\lambda K)^{-1}h$,\n",
    "\n",
    "$\n",
    "F=\\begin{bmatrix}\n",
    " -1 &  0 & 0 \\\\\n",
    "  0 & -1 & 0 \\\\\n",
    "  0 &  0 & 1\n",
    " \\end{bmatrix}\n",
    "$\n",
    "\n",
    "**Hints**:\n",
    "\n",
    "- K*R=(KF)*(FR),所以如果$K_{00}>0$,可以用这个方法修正。\n",
    "- 有如下约束：$K_{33}=1,R^TR=I$,所以经过QR分解后,未知系数$\\lambda$可以被确定下来。"
   ]
  },
  {
   "cell_type": "code",
   "execution_count": 71,
   "id": "ff5cef19-617d-49a9-b435-274e908e0c68",
   "metadata": {
    "jupyter": {
     "source_hidden": true
    },
    "tags": []
   },
   "outputs": [],
   "source": [
    "#还原K,R\n",
    "# print(Rz(180))\n",
    "perm=np.array([[-1,0,0],[0,-1,0],[0,0,1]])\n",
    "\n",
    "H=P_es[:3,:3]\n",
    "h=P_es[:,3]\n",
    "\n",
    "\n",
    "q,r=np.linalg.qr(np.linalg.inv(H))\n",
    "R_es=q.T\n",
    "K_es=np.linalg.inv(r)\n",
    "K_es=K_es/K_es[-1][-1]\n",
    "\n",
    "# 修正\n",
    "if K_es[0,0]>0:\n",
    "    K_es=K_es@perm\n",
    "    R_es=perm@R_es\n",
    "np.testing.assert_almost_equal(R_es,R34[:3,:3])\n",
    "np.testing.assert_almost_equal(K_es,K)\n",
    "\n",
    "# t 是 0的位置\n",
    "labda=(H/(K_es@R_es))[0,0]\n",
    "t=np.linalg.solve(labda*K_es,h)\n",
    "np.testing.assert_almost_equal(t,R34[:,3])\n"
   ]
  },
  {
   "cell_type": "markdown",
   "id": "c176e8f1-fbac-4adb-8e57-2ddcc2678e86",
   "metadata": {},
   "source": [
    "### zhang's method"
   ]
  },
  {
   "cell_type": "code",
   "execution_count": 8,
   "id": "08513e49-5fb9-4166-86bd-a43df66699fb",
   "metadata": {},
   "outputs": [],
   "source": [
    "def Vij(h,i,j):\n",
    "    return np.array([\n",
    "        h[0,i]*h[0,j],\n",
    "        h[1,i]*h[0,j]+h[1,j]*h[0,i],\n",
    "        h[2,i]*h[0,j]+h[2,j]*h[0,i],\n",
    "        h[1,i]*h[1,j],\n",
    "        h[1,i]*h[2,j]+h[1,j]*h[2,i],\n",
    "        h[2,i]*h[2,j],\n",
    "    ])"
   ]
  },
  {
   "cell_type": "code",
   "execution_count": null,
   "id": "2d4ca306-2ede-495d-ac6a-0e5b2e4ee654",
   "metadata": {},
   "outputs": [],
   "source": []
  }
 ],
 "metadata": {
  "kernelspec": {
   "display_name": "Python 3 (ipykernel)",
   "language": "python",
   "name": "python3"
  },
  "language_info": {
   "codemirror_mode": {
    "name": "ipython",
    "version": 3
   },
   "file_extension": ".py",
   "mimetype": "text/x-python",
   "name": "python",
   "nbconvert_exporter": "python",
   "pygments_lexer": "ipython3",
   "version": "3.9.6"
  }
 },
 "nbformat": 4,
 "nbformat_minor": 5
}
